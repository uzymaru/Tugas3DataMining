{
  "nbformat": 4,
  "nbformat_minor": 0,
  "metadata": {
    "colab": {
      "name": "Tugas3.ipynb",
      "provenance": [],
      "authorship_tag": "ABX9TyPECswWDH7QN6GzR9QjMD3T",
      "include_colab_link": true
    },
    "kernelspec": {
      "name": "python3",
      "display_name": "Python 3"
    }
  },
  "cells": [
    {
      "cell_type": "markdown",
      "metadata": {
        "id": "view-in-github",
        "colab_type": "text"
      },
      "source": [
        "<a href=\"https://colab.research.google.com/github/uzymaru/Tugas3DataMining/blob/main/Tugas3.ipynb\" target=\"_parent\"><img src=\"https://colab.research.google.com/assets/colab-badge.svg\" alt=\"Open In Colab\"/></a>"
      ]
    },
    {
      "cell_type": "code",
      "metadata": {
        "id": "7qT54D8YmxL7"
      },
      "source": [
        "import numpy as np\r\n",
        "import matplotlib.pyplot as plt\r\n",
        "import pandas as pd"
      ],
      "execution_count": 2,
      "outputs": []
    },
    {
      "cell_type": "code",
      "metadata": {
        "id": "OVvVGvzLm64m"
      },
      "source": [
        "dataset = pd.read_csv('Tugas3.csv')\r\n",
        "x = dataset.iloc[:, :-1].values\r\n",
        "y = dataset.iloc[:, -1].values"
      ],
      "execution_count": 13,
      "outputs": []
    },
    {
      "cell_type": "code",
      "metadata": {
        "colab": {
          "base_uri": "https://localhost:8080/"
        },
        "id": "76vw1lbzm-Jr",
        "outputId": "66fb4665-19aa-4011-a6a1-2b08559548cd"
      },
      "source": [
        "print(x)"
      ],
      "execution_count": 4,
      "outputs": [
        {
          "output_type": "stream",
          "text": [
            "[['Rizky' 21.0 2500.0]\n",
            " ['Fauzy' 22.0 5000.0]\n",
            " ['Andi' 25.0 2340.0]\n",
            " ['Rizky' nan 5500.0]\n",
            " ['Andi' nan 234500.0]\n",
            " [nan 20.0 7600.0]\n",
            " ['Rizky' 28.0 1400.0]\n",
            " ['Afdan' 30.0 9800.0]\n",
            " ['Afdan' nan nan]\n",
            " ['Fauzy' 18.0 7500.0]]\n"
          ],
          "name": "stdout"
        }
      ]
    },
    {
      "cell_type": "code",
      "metadata": {
        "colab": {
          "base_uri": "https://localhost:8080/"
        },
        "id": "x6Sroon9nAxo",
        "outputId": "6ae135af-1eec-40b8-b28a-41626cc97e0c"
      },
      "source": [
        "print(y)"
      ],
      "execution_count": 14,
      "outputs": [
        {
          "output_type": "stream",
          "text": [
            "['Lulus' 'Tidak' 'Tidak' 'Lulus' 'Tidak' 'Lulus' 'Lulus' 'Lulus' 'Tidak'\n",
            " 'Lulus']\n"
          ],
          "name": "stdout"
        }
      ]
    },
    {
      "cell_type": "code",
      "metadata": {
        "id": "8RMW4hC0nEfQ"
      },
      "source": [
        "from sklearn.impute import SimpleImputer\r\n",
        "imputer = SimpleImputer(missing_values=np.nan,strategy='most_frequent')\r\n",
        "imputer.fit(x[:, 0:3])\r\n",
        "x[:, 0:3] = imputer.transform(x[:, 0:3])"
      ],
      "execution_count": 20,
      "outputs": []
    },
    {
      "cell_type": "code",
      "metadata": {
        "colab": {
          "base_uri": "https://localhost:8080/"
        },
        "id": "Ps5d7OYOnLNe",
        "outputId": "bbe1edd7-a467-414b-ea89-db10cccaca4e"
      },
      "source": [
        "print(x)"
      ],
      "execution_count": 21,
      "outputs": [
        {
          "output_type": "stream",
          "text": [
            "[['Rizky' 21.0 2500.0]\n",
            " ['Fauzy' 22.0 5000.0]\n",
            " ['Andi' 25.0 2340.0]\n",
            " ['Rizky' 18.0 5500.0]\n",
            " ['Andi' 18.0 234500.0]\n",
            " ['Rizky' 20.0 7600.0]\n",
            " ['Rizky' 28.0 1400.0]\n",
            " ['Afdan' 30.0 9800.0]\n",
            " ['Afdan' 18.0 1400.0]\n",
            " ['Fauzy' 18.0 7500.0]]\n"
          ],
          "name": "stdout"
        }
      ]
    },
    {
      "cell_type": "code",
      "metadata": {
        "id": "HCJPv7J1nQiC"
      },
      "source": [
        "from sklearn.compose import ColumnTransformer\r\n",
        "from sklearn.preprocessing import OneHotEncoder\r\n",
        "ct = ColumnTransformer(transformers=[('encoder', OneHotEncoder(), [0])], remainder='passthrough')\r\n",
        "x = np.array(ct.fit_transform(x))"
      ],
      "execution_count": 22,
      "outputs": []
    },
    {
      "cell_type": "code",
      "metadata": {
        "colab": {
          "base_uri": "https://localhost:8080/"
        },
        "id": "aatH4ItlnURs",
        "outputId": "deeef697-8934-4b71-ea1f-ef04d57565f6"
      },
      "source": [
        "print(x)"
      ],
      "execution_count": 23,
      "outputs": [
        {
          "output_type": "stream",
          "text": [
            "[[0.0 0.0 0.0 1.0 21.0 2500.0]\n",
            " [0.0 0.0 1.0 0.0 22.0 5000.0]\n",
            " [0.0 1.0 0.0 0.0 25.0 2340.0]\n",
            " [0.0 0.0 0.0 1.0 18.0 5500.0]\n",
            " [0.0 1.0 0.0 0.0 18.0 234500.0]\n",
            " [0.0 0.0 0.0 1.0 20.0 7600.0]\n",
            " [0.0 0.0 0.0 1.0 28.0 1400.0]\n",
            " [1.0 0.0 0.0 0.0 30.0 9800.0]\n",
            " [1.0 0.0 0.0 0.0 18.0 1400.0]\n",
            " [0.0 0.0 1.0 0.0 18.0 7500.0]]\n"
          ],
          "name": "stdout"
        }
      ]
    },
    {
      "cell_type": "code",
      "metadata": {
        "id": "7s_XuxVLnWdM"
      },
      "source": [
        "from sklearn.preprocessing import LabelEncoder\r\n",
        "le = LabelEncoder()\r\n",
        "y = le.fit_transform(y)"
      ],
      "execution_count": 15,
      "outputs": []
    },
    {
      "cell_type": "code",
      "metadata": {
        "colab": {
          "base_uri": "https://localhost:8080/"
        },
        "id": "r7serwO-naV7",
        "outputId": "c5e7b30a-b971-46d3-d087-ba6c99dcc218"
      },
      "source": [
        "print(y)"
      ],
      "execution_count": 16,
      "outputs": [
        {
          "output_type": "stream",
          "text": [
            "[0 1 1 0 1 0 0 0 1 0]\n"
          ],
          "name": "stdout"
        }
      ]
    },
    {
      "cell_type": "code",
      "metadata": {
        "id": "NoZHKr2xnwSq"
      },
      "source": [
        "from sklearn.model_selection import train_test_split\r\n",
        "x_train, x_test, y_train, y_test = train_test_split(x, y, test_size = 0.2, random_state=1)"
      ],
      "execution_count": 24,
      "outputs": []
    },
    {
      "cell_type": "code",
      "metadata": {
        "colab": {
          "base_uri": "https://localhost:8080/"
        },
        "id": "00Gi3JDRn11R",
        "outputId": "037527e4-8ec2-46ed-da13-7f82a0213558"
      },
      "source": [
        "print(x_train)"
      ],
      "execution_count": 25,
      "outputs": [
        {
          "output_type": "stream",
          "text": [
            "[[0.0 0.0 0.0 1.0 28.0 1400.0]\n",
            " [0.0 1.0 0.0 0.0 18.0 234500.0]\n",
            " [0.0 0.0 0.0 1.0 21.0 2500.0]\n",
            " [0.0 0.0 0.0 1.0 18.0 5500.0]\n",
            " [0.0 0.0 1.0 0.0 22.0 5000.0]\n",
            " [1.0 0.0 0.0 0.0 30.0 9800.0]\n",
            " [1.0 0.0 0.0 0.0 18.0 1400.0]\n",
            " [0.0 0.0 0.0 1.0 20.0 7600.0]]\n"
          ],
          "name": "stdout"
        }
      ]
    },
    {
      "cell_type": "code",
      "metadata": {
        "colab": {
          "base_uri": "https://localhost:8080/"
        },
        "id": "ZdUY1FmYn5qq",
        "outputId": "d354802c-f0e3-445f-82e5-f74e6cf55861"
      },
      "source": [
        "print(x_test)"
      ],
      "execution_count": 26,
      "outputs": [
        {
          "output_type": "stream",
          "text": [
            "[[0.0 1.0 0.0 0.0 25.0 2340.0]\n",
            " [0.0 0.0 1.0 0.0 18.0 7500.0]]\n"
          ],
          "name": "stdout"
        }
      ]
    },
    {
      "cell_type": "code",
      "metadata": {
        "colab": {
          "base_uri": "https://localhost:8080/"
        },
        "id": "95Veo3n0oKQh",
        "outputId": "ee8634da-f326-4da2-8407-bbdba2a5b5de"
      },
      "source": [
        "print(y_train)"
      ],
      "execution_count": 27,
      "outputs": [
        {
          "output_type": "stream",
          "text": [
            "[0 1 0 0 1 0 1 0]\n"
          ],
          "name": "stdout"
        }
      ]
    },
    {
      "cell_type": "code",
      "metadata": {
        "colab": {
          "base_uri": "https://localhost:8080/"
        },
        "id": "XfUXkM3aoW1U",
        "outputId": "2cfa4fcb-edbf-4fd5-e4bc-e5b42d2010b9"
      },
      "source": [
        "print(y_test)"
      ],
      "execution_count": 28,
      "outputs": [
        {
          "output_type": "stream",
          "text": [
            "[1 0]\n"
          ],
          "name": "stdout"
        }
      ]
    },
    {
      "cell_type": "code",
      "metadata": {
        "id": "refPHI-2ocrw"
      },
      "source": [
        "from sklearn.preprocessing import StandardScaler\r\n",
        "sc = StandardScaler()\r\n",
        "x_train[:, 3:] = sc.fit_transform(x_train[:, 3:])\r\n",
        "x_test[:, 3:] = sc.transform(x_test[:, 3:])"
      ],
      "execution_count": 29,
      "outputs": []
    },
    {
      "cell_type": "code",
      "metadata": {
        "colab": {
          "base_uri": "https://localhost:8080/"
        },
        "id": "LLj7w825oeeq",
        "outputId": "dcb9bcf5-4c9d-45e7-a955-547c720a32b4"
      },
      "source": [
        "print(x_train)"
      ],
      "execution_count": 30,
      "outputs": [
        {
          "output_type": "stream",
          "text": [
            "[[0.0 0.0 0.0 1.0 1.4011442584664595 -0.4216762966826798]\n",
            " [0.0 1.0 0.0 -1.0 -0.8864382043359234 2.643984358498066]\n",
            " [0.0 0.0 0.0 1.0 -0.2001634654952085 -0.4072094295840148]\n",
            " [0.0 0.0 0.0 1.0 -0.8864382043359234 -0.3677543374967465]\n",
            " [0.0 0.0 1.0 -1.0 0.028594780785029784 -0.3743301861779579]\n",
            " [1.0 0.0 0.0 -1.0 1.858660751026936 -0.31120203883832864]\n",
            " [1.0 0.0 0.0 -1.0 -0.8864382043359234 -0.4216762966826798]\n",
            " [0.0 0.0 0.0 1.0 -0.42892171177544675 -0.3401357730356587]]\n"
          ],
          "name": "stdout"
        }
      ]
    },
    {
      "cell_type": "code",
      "metadata": {
        "colab": {
          "base_uri": "https://localhost:8080/"
        },
        "id": "Ds6D0GvgohsJ",
        "outputId": "5f488ed8-3068-4601-81a3-0df01f43642d"
      },
      "source": [
        "print(x_test)"
      ],
      "execution_count": 31,
      "outputs": [
        {
          "output_type": "stream",
          "text": [
            "[[0.0 1.0 0.0 -1.0 0.7148695196257446 -0.40931370116200244]\n",
            " [0.0 0.0 1.0 -1.0 -0.8864382043359234 -0.34145094277190097]]\n"
          ],
          "name": "stdout"
        }
      ]
    }
  ]
}